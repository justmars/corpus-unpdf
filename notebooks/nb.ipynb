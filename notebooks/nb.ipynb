{
 "cells": [
  {
   "cell_type": "code",
   "execution_count": 1,
   "metadata": {},
   "outputs": [],
   "source": [
    "import pdfplumber\n",
    "import numpy\n",
    "import cv2\n",
    "from corpus_unpdf import Decision, get_decision\n",
    "from corpus_unpdf.src import get_page_and_img, get_contours, get_reverse_pages_and_imgs, get_page_end, get_header_line\n",
    "from corpus_unpdf.src.common.slice import get_centered_coordinates, PageCut\n",
    "from pathlib import Path"
   ]
  },
  {
   "cell_type": "code",
   "execution_count": 2,
   "metadata": {},
   "outputs": [
    {
     "name": "stderr",
     "output_type": "stream",
     "text": [
      "Executing <Task pending name='Task-3' coro=<Kernel.dispatch_queue() running at /Users/mv/Code/corpus-unpdf/.venv/lib/python3.11/site-packages/ipykernel/kernelbase.py:513> wait_for=<Future pending cb=[Task.task_wakeup()] created at /Users/mv/Code/corpus-unpdf/.venv/lib/python3.11/site-packages/tornado/queues.py:248> cb=[IOLoop.add_future.<locals>.<lambda>() at /Users/mv/Code/corpus-unpdf/.venv/lib/python3.11/site-packages/tornado/ioloop.py:687] created at /Users/mv/.pyenv/versions/3.11.1/lib/python3.11/asyncio/tasks.py:670> took 0.468 seconds\n"
     ]
    }
   ],
   "source": [
    "target = Path().cwd() / \"data\" / \"notice5.pdf\""
   ]
  },
  {
   "cell_type": "code",
   "execution_count": 3,
   "metadata": {},
   "outputs": [
    {
     "name": "stderr",
     "output_type": "stream",
     "text": [
      "2023-02-04 23:08:27.774 | DEBUG    | corpus_unpdf.decision:make_start_page:149 - Initialize title page 1\n",
      "2023-02-04 23:08:27.846 | DEBUG    | corpus_unpdf.decision:make_start_page:152 - Found body_end_line=821.76; terminal=906.9119999999999\n",
      "2023-02-04 23:08:28.483 | DEBUG    | corpus_unpdf.decision:make_start_page:159 - Found ntc=PositionNotice(element=<NoticeChoices.NOTICE: 'Notice'>, coordinates=(1184, 1020, 466, 82), position_pct_height=0.27412935323383086); notice_pos=264.48\n",
      "2023-02-04 23:08:30.712 | DEBUG    | corpus_unpdf.decision:make_next_pages:218 - Initialize page.page_number=2.\n",
      "2023-02-04 23:08:31.851 | WARNING  | corpus_unpdf.decision:make_next_pages:222 - Detected blank page.\n",
      "2023-02-04 23:08:31.852 | DEBUG    | corpus_unpdf.decision:make_next_pages:218 - Initialize page.page_number=3.\n",
      "2023-02-04 23:08:35.487 | WARNING  | corpus_unpdf.decision:make_next_pages:222 - Detected blank page.\n",
      "2023-02-04 23:08:35.488 | DEBUG    | corpus_unpdf.decision:make_next_pages:218 - Initialize page.page_number=4.\n",
      "2023-02-04 23:08:36.636 | WARNING  | corpus_unpdf.decision:make_next_pages:222 - Detected blank page.\n",
      "2023-02-04 23:08:36.637 | DEBUG    | corpus_unpdf.decision:make_next_pages:210 - Finalize page.page_number=5.\n",
      "/Users/mv/.pyenv/versions/3.11.1/lib/python3.11/traceback.py:428: ResourceWarning: unclosed file <_io.BufferedReader name='/Users/mv/Code/corpus-unpdf/data/notice5.pdf'>\n",
      "  result.append(FrameSummary(\n",
      "ResourceWarning: Enable tracemalloc to get the object allocation traceback\n",
      "/Users/mv/.pyenv/versions/3.11.1/lib/python3.11/traceback.py:428: ResourceWarning: unclosed file <_io.FileIO name='/Users/mv/Code/corpus-unpdf/data/notice5.pdf' mode='rb' closefd=True>\n",
      "  result.append(FrameSummary(\n",
      "ResourceWarning: Enable tracemalloc to get the object allocation traceback\n",
      "2023-02-04 23:08:38.474 | WARNING  | corpus_unpdf.decision:make_next_pages:215 - Detected blank page.\n"
     ]
    },
    {
     "name": "stderr",
     "output_type": "stream",
     "text": [
      "Executing <Task pending name='Task-3' coro=<Kernel.dispatch_queue() running at /Users/mv/Code/corpus-unpdf/.venv/lib/python3.11/site-packages/ipykernel/kernelbase.py:513> wait_for=<Future pending cb=[Task.task_wakeup()] created at /Users/mv/Code/corpus-unpdf/.venv/lib/python3.11/site-packages/tornado/queues.py:248> cb=[IOLoop.add_future.<locals>.<lambda>() at /Users/mv/Code/corpus-unpdf/.venv/lib/python3.11/site-packages/tornado/ioloop.py:687] created at /Users/mv/.pyenv/versions/3.11.1/lib/python3.11/asyncio/tasks.py:670> took 13.689 seconds\n"
     ]
    }
   ],
   "source": [
    "decision = get_decision(target)"
   ]
  }
 ],
 "metadata": {
  "kernelspec": {
   "display_name": ".venv",
   "language": "python",
   "name": "python3"
  },
  "language_info": {
   "codemirror_mode": {
    "name": "ipython",
    "version": 3
   },
   "file_extension": ".py",
   "mimetype": "text/x-python",
   "name": "python",
   "nbconvert_exporter": "python",
   "pygments_lexer": "ipython3",
   "version": "3.11.1"
  },
  "orig_nbformat": 4,
  "vscode": {
   "interpreter": {
    "hash": "90804bc5e0b34f10be1f595819c320783cb4f797089fd1b5f885290b3e04da5a"
   }
  }
 },
 "nbformat": 4,
 "nbformat_minor": 2
}
