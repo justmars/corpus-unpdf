{
 "cells": [
  {
   "cell_type": "code",
   "execution_count": null,
   "metadata": {},
   "outputs": [],
   "source": [
    "import pdfplumber\n",
    "import numpy\n",
    "import cv2\n",
    "from corpus_unpdf import Decision, get_decision\n",
    "from corpus_unpdf.src import get_page_and_img, get_contours, get_reverse_pages_and_imgs, get_annex_y_axis, get_header_line\n",
    "from corpus_unpdf.src.common.slice import get_centered_coordinates, PageCut\n",
    "from pathlib import Path"
   ]
  },
  {
   "cell_type": "code",
   "execution_count": null,
   "metadata": {},
   "outputs": [],
   "source": [
    "target = Path().cwd() / \"data\" / \"data1.pdf\""
   ]
  },
  {
   "cell_type": "code",
   "execution_count": null,
   "metadata": {},
   "outputs": [],
   "source": [
    "decision = get_decision(target)"
   ]
  },
  {
   "cell_type": "code",
   "execution_count": null,
   "metadata": {},
   "outputs": [],
   "source": [
    "page, im = get_page_and_img(target, 4)\n",
    "im_h, im_w, _ = im.shape\n",
    "im.shape\n",
    "cv2.imwrite('temp/sample.png', im[0:im_h, 0:im_w,])"
   ]
  },
  {
   "cell_type": "code",
   "execution_count": null,
   "metadata": {},
   "outputs": [],
   "source": [
    "# import pytesseract\n",
    "# cv2.rectangle(im, (1160, 850), (1160 + 359, 850 + 78), (36, 255, 12), 2)\n",
    "# cv2.imwrite('temp/sample.png', im[850:850+78, 1160:1160+359,])\n",
    "# 850 is y axis position\n",
    "# 850 + 78 = y axis + height\n",
    "# 1160 is x axis position\n",
    "# 1160 + 359 = x axis + width"
   ]
  }
 ],
 "metadata": {
  "kernelspec": {
   "display_name": ".venv",
   "language": "python",
   "name": "python3"
  },
  "language_info": {
   "codemirror_mode": {
    "name": "ipython",
    "version": 3
   },
   "file_extension": ".py",
   "mimetype": "text/x-python",
   "name": "python",
   "nbconvert_exporter": "python",
   "pygments_lexer": "ipython3",
   "version": "3.11.1"
  },
  "orig_nbformat": 4,
  "vscode": {
   "interpreter": {
    "hash": "90804bc5e0b34f10be1f595819c320783cb4f797089fd1b5f885290b3e04da5a"
   }
  }
 },
 "nbformat": 4,
 "nbformat_minor": 2
}
