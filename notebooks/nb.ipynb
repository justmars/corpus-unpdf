{
 "cells": [
  {
   "cell_type": "code",
   "execution_count": 1,
   "metadata": {},
   "outputs": [
    {
     "data": {
      "text/plain": [
       "True"
      ]
     },
     "execution_count": 1,
     "metadata": {},
     "output_type": "execute_result"
    },
    {
     "name": "stderr",
     "output_type": "stream",
     "text": [
      "Executing <Task pending name='Task-3' coro=<Kernel.dispatch_queue() running at /Users/mv/Code/corpus-unpdf/.venv/lib/python3.11/site-packages/ipykernel/kernelbase.py:512> wait_for=<Future pending cb=[Task.task_wakeup()] created at /Users/mv/Code/corpus-unpdf/.venv/lib/python3.11/site-packages/tornado/queues.py:248> cb=[IOLoop.add_future.<locals>.<lambda>() at /Users/mv/Code/corpus-unpdf/.venv/lib/python3.11/site-packages/tornado/ioloop.py:687] created at /Users/mv/.pyenv/versions/3.11.1/lib/python3.11/asyncio/tasks.py:670> took 0.166 seconds\n"
     ]
    }
   ],
   "source": [
    "from corpus_unpdf import extract_lines_from_pdf, set_file, extract_page_lines, get_img, extract_blocks\n",
    "from pathlib import Path\n",
    "p = Path().cwd() / \"data\" / \"data7.pdf\"\n",
    "p.exists()"
   ]
  },
  {
   "cell_type": "code",
   "execution_count": 2,
   "metadata": {},
   "outputs": [
    {
     "name": "stderr",
     "output_type": "stream",
     "text": [
      "Executing <Task pending name='Task-3' coro=<Kernel.dispatch_queue() running at /Users/mv/Code/corpus-unpdf/.venv/lib/python3.11/site-packages/ipykernel/kernelbase.py:512> wait_for=<Future pending cb=[Task.task_wakeup()] created at /Users/mv/Code/corpus-unpdf/.venv/lib/python3.11/site-packages/tornado/queues.py:248> cb=[IOLoop.add_future.<locals>.<lambda>() at /Users/mv/Code/corpus-unpdf/.venv/lib/python3.11/site-packages/tornado/ioloop.py:687] created at /Users/mv/.pyenv/versions/3.11.1/lib/python3.11/asyncio/tasks.py:670> took 1.740 seconds\n"
     ]
    }
   ],
   "source": [
    "img = get_img(p, 1)"
   ]
  },
  {
   "cell_type": "code",
   "execution_count": 3,
   "metadata": {},
   "outputs": [],
   "source": [
    "lines_from_page = extract_page_lines(1, img)"
   ]
  },
  {
   "cell_type": "code",
   "execution_count": 4,
   "metadata": {},
   "outputs": [
    {
     "name": "stdout",
     "output_type": "stream",
     "text": [
      "Extracting page_num=1\n"
     ]
    },
    {
     "name": "stderr",
     "output_type": "stream",
     "text": [
      "Executing <Task pending name='Task-3' coro=<Kernel.dispatch_queue() running at /Users/mv/Code/corpus-unpdf/.venv/lib/python3.11/site-packages/ipykernel/kernelbase.py:512> wait_for=<Future pending cb=[Task.task_wakeup()] created at /Users/mv/Code/corpus-unpdf/.venv/lib/python3.11/site-packages/tornado/queues.py:248> cb=[IOLoop.add_future.<locals>.<lambda>() at /Users/mv/Code/corpus-unpdf/.venv/lib/python3.11/site-packages/tornado/ioloop.py:687] created at /Users/mv/.pyenv/versions/3.11.1/lib/python3.11/asyncio/tasks.py:670> took 2.568 seconds\n"
     ]
    }
   ],
   "source": [
    "lines = list(lines_from_page)"
   ]
  },
  {
   "cell_type": "code",
   "execution_count": 5,
   "metadata": {},
   "outputs": [
    {
     "data": {
      "text/plain": [
       "7"
      ]
     },
     "execution_count": 5,
     "metadata": {},
     "output_type": "execute_result"
    }
   ],
   "source": [
    "len(lines)"
   ]
  },
  {
   "cell_type": "code",
   "execution_count": 6,
   "metadata": {},
   "outputs": [
    {
     "data": {
      "text/plain": [
       "['Resolution 2. G.R. No. 254838 January 17, 2023',\n",
       " 'Petitioner contends that the period of her detention is \"longer than any other accused similarly charged with the offense of plunder.\"*® She cites the periods of detention of the following: (1) Former President Gloria Macapagal- Arroyo, who was detained for a period of 1,387 days prior to her acquittal;? (2) Senator Ramon \"Bong\" Revilla, Jr., who was detained for 1,643 days prior to his acquittal;\\'° (3) Former Senator Juan Ponce Enrile, one of her co-accused, who was detained for 413 days and released on bail;!! and (5) Former Senator Jose Pimentel \"Jinggoy\" Ejercito, Jr, who was detained for 1,188 days and released on bail.\\'!* Thus, petitioner claims that she is entitled to a writ of habeas corpus and should be discharged from prison by reason of delay and alleged violation of her constitutional right to speedy trial.!',\n",
       " 'Petitioner states that she has filed several petitions before this Court for release from detention on various and multiple grounds, but to no avail.\\'* Thus, she is consequently constrained to invoke \"the ancient but well- established remedy of Habeas Corpus Act of 1679, s. 6 against deprivation of liberty, specifically on the ground of delay in trial x x x.\"',\n",
       " 'In a Notice\\'® dated January 27, 2021, this Court directed the Director of the Taguig City Jail Female Dormitory to submit a return of the writ.\\'\" All respondents were likewise directed to comment on the Petition.\"®',\n",
       " 'The Office of the Solicitor General (OSG), through its Comment\" dated March 30, 2021, argues that petitioner is not entitled to a writ of habeas corpus because she was \"detained pursuant to an Information charging her with plunder and the warrant of arrest issued against her.\"*° The OSG likewise argues that there was no delay in trial attributable to either the prosecution or the Sandiganbayan.\"!',\n",
       " 'The Jail Warden of the Taguig City Jail Female Dormitory, JCINSP Wena Fe P. Dalagan (Jail Warden), submitted the Return of the Writ of Habeas Corpus\" dated March 24, 2021 (Return). The Return provides:',\n",
       " '- over - 281-A']"
      ]
     },
     "execution_count": 6,
     "metadata": {},
     "output_type": "execute_result"
    }
   ],
   "source": [
    "[l['text'] for l in lines]"
   ]
  },
  {
   "cell_type": "code",
   "execution_count": null,
   "metadata": {},
   "outputs": [],
   "source": [
    "from _collections_abc import dict_keys\n",
    "\"layout\" in line.keys()"
   ]
  },
  {
   "cell_type": "code",
   "execution_count": null,
   "metadata": {},
   "outputs": [],
   "source": [
    "lines = extract_lines_from_pdf(p)"
   ]
  },
  {
   "cell_type": "code",
   "execution_count": null,
   "metadata": {},
   "outputs": [],
   "source": [
    "set_file(lines)"
   ]
  }
 ],
 "metadata": {
  "kernelspec": {
   "display_name": ".venv",
   "language": "python",
   "name": "python3"
  },
  "language_info": {
   "codemirror_mode": {
    "name": "ipython",
    "version": 3
   },
   "file_extension": ".py",
   "mimetype": "text/x-python",
   "name": "python",
   "nbconvert_exporter": "python",
   "pygments_lexer": "ipython3",
   "version": "3.11.1"
  },
  "orig_nbformat": 4,
  "vscode": {
   "interpreter": {
    "hash": "90804bc5e0b34f10be1f595819c320783cb4f797089fd1b5f885290b3e04da5a"
   }
  }
 },
 "nbformat": 4,
 "nbformat_minor": 2
}
