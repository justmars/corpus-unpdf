{
 "cells": [
  {
   "cell_type": "code",
   "execution_count": 1,
   "metadata": {},
   "outputs": [],
   "source": [
    "\n",
    "%load_ext rich\n",
    "import pdfplumber\n",
    "import numpy\n",
    "import cv2\n",
    "from corpus_unpdf import Decision, get_decision\n",
    "from pathlib import Path"
   ]
  },
  {
   "cell_type": "code",
   "execution_count": 2,
   "metadata": {},
   "outputs": [
    {
     "name": "stderr",
     "output_type": "stream",
     "text": [
      "Executing <Task pending name='Task-3' coro=<Kernel.dispatch_queue() running at /Users/mv/Code/corpus-unpdf/.venv/lib/python3.11/site-packages/ipykernel/kernelbase.py:513> wait_for=<Future pending cb=[Task.task_wakeup()] created at /Users/mv/Code/corpus-unpdf/.venv/lib/python3.11/site-packages/tornado/queues.py:248> cb=[IOLoop.add_future.<locals>.<lambda>() at /Users/mv/Code/corpus-unpdf/.venv/lib/python3.11/site-packages/tornado/ioloop.py:687] created at /Users/mv/.pyenv/versions/3.11.1/lib/python3.11/asyncio/tasks.py:670> took 0.431 seconds\n"
     ]
    },
    {
     "name": "stderr",
     "output_type": "stream",
     "text": [
      "2023-02-04 23:26:23.373 | DEBUG    | corpus_unpdf.decision:make_start_page:149 - Initialize title page 1\n",
      "2023-02-04 23:26:23.425 | DEBUG    | corpus_unpdf.decision:make_start_page:152 - Found body_end_line=819.12; terminal=891.7968\n",
      "2023-02-04 23:26:26.322 | DEBUG    | corpus_unpdf.decision:make_start_page:176 - Found cat_pos=505.91999999999996; writer_pos=570.72\n",
      "2023-02-04 23:26:30.075 | DEBUG    | corpus_unpdf.decision:make_next_pages:218 - Initialize page.page_number=2.\n",
      "2023-02-04 23:26:31.385 | DEBUG    | corpus_unpdf.decision:make_next_pages:218 - Initialize page.page_number=3.\n",
      "2023-02-04 23:26:32.678 | DEBUG    | corpus_unpdf.decision:make_next_pages:218 - Initialize page.page_number=4.\n",
      "2023-02-04 23:26:34.056 | DEBUG    | corpus_unpdf.decision:make_next_pages:210 - Finalize page.page_number=5.\n"
     ]
    },
    {
     "name": "stderr",
     "output_type": "stream",
     "text": [
      "Executing <Task pending name='Task-3' coro=<Kernel.dispatch_queue() running at /Users/mv/Code/corpus-unpdf/.venv/lib/python3.11/site-packages/ipykernel/kernelbase.py:513> wait_for=<Future pending cb=[Task.task_wakeup()] created at /Users/mv/Code/corpus-unpdf/.venv/lib/python3.11/site-packages/tornado/queues.py:248> cb=[IOLoop.add_future.<locals>.<lambda>() at /Users/mv/Code/corpus-unpdf/.venv/lib/python3.11/site-packages/tornado/ioloop.py:687] created at /Users/mv/.pyenv/versions/3.11.1/lib/python3.11/asyncio/tasks.py:670> took 16.677 seconds\n"
     ]
    }
   ],
   "source": [
    "decision = get_decision(Path().cwd() / \"data\" / \"data1.pdf\")"
   ]
  }
 ],
 "metadata": {
  "kernelspec": {
   "display_name": ".venv",
   "language": "python",
   "name": "python3"
  },
  "language_info": {
   "codemirror_mode": {
    "name": "ipython",
    "version": 3
   },
   "file_extension": ".py",
   "mimetype": "text/x-python",
   "name": "python",
   "nbconvert_exporter": "python",
   "pygments_lexer": "ipython3",
   "version": "3.11.1"
  },
  "orig_nbformat": 4,
  "vscode": {
   "interpreter": {
    "hash": "90804bc5e0b34f10be1f595819c320783cb4f797089fd1b5f885290b3e04da5a"
   }
  }
 },
 "nbformat": 4,
 "nbformat_minor": 2
}
