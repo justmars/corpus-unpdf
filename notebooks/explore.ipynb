{
 "cells": [
  {
   "cell_type": "code",
   "execution_count": 1,
   "metadata": {},
   "outputs": [],
   "source": [
    "import pdfplumber\n",
    "import numpy\n",
    "import cv2\n",
    "from pathlib import Path\n",
    "from corpus_unpdf import Decision, get_decision, get_opinion\n",
    "from corpus_unpdf.src import (\n",
    "    get_start_page_pos,\n",
    "    get_page_and_img, get_contours, \n",
    "    get_reverse_pages_and_imgs, \n",
    "    get_header_line, get_page_end,\n",
    "    PositionCourtComposition, get_likelihood_centered_coordinates, PageCut)\n",
    "from corpus_unpdf.src.content_markers import PositionOpinion\n",
    "plural1 = Path().cwd() / \"data\" /  \"plural\" / \"2.pdf\"\n",
    "plural2 = Path().cwd() / \"data\" /  \"plural\" / \"2.pdf\"\n",
    "target = Path().cwd() / \"data\" / \"data1.pdf\""
   ]
  },
  {
   "cell_type": "code",
   "execution_count": 4,
   "metadata": {},
   "outputs": [
    {
     "name": "stdout",
     "output_type": "stream",
     "text": [
      "[[[255 255 255]\n",
      "  [255 255 255]\n",
      "  [255 255 255]\n",
      "  ...\n",
      "  [255 255 255]\n",
      "  [255 255 255]\n",
      "  [255 255 255]]\n",
      "\n",
      " [[255 255 255]\n",
      "  [255 255 255]\n",
      "  [255 255 255]\n",
      "  ...\n",
      "  [255 255 255]\n",
      "  [255 255 255]\n",
      "  [255 255 255]]\n",
      "\n",
      " [[255 255 255]\n",
      "  [255 255 255]\n",
      "  [255 255 255]\n",
      "  ...\n",
      "  [255 255 255]\n",
      "  [255 255 255]\n",
      "  [255 255 255]]\n",
      "\n",
      " ...\n",
      "\n",
      " [[255 255 255]\n",
      "  [255 255 255]\n",
      "  [255 255 255]\n",
      "  ...\n",
      "  [255 255 255]\n",
      "  [255 255 255]\n",
      "  [255 255 255]]\n",
      "\n",
      " [[255 255 255]\n",
      "  [255 255 255]\n",
      "  [255 255 255]\n",
      "  ...\n",
      "  [255 255 255]\n",
      "  [255 255 255]\n",
      "  [255 255 255]]\n",
      "\n",
      " [[255 255 255]\n",
      "  [255 255 255]\n",
      "  [255 255 255]\n",
      "  ...\n",
      "  [255 255 255]\n",
      "  [255 255 255]\n",
      "  [255 255 255]]]\n"
     ]
    },
    {
     "data": {
      "text/plain": [
       "True"
      ]
     },
     "execution_count": 4,
     "metadata": {},
     "output_type": "execute_result"
    },
    {
     "name": "stderr",
     "output_type": "stream",
     "text": [
      "Executing <Task pending name='Task-3' coro=<Kernel.dispatch_queue() running at /Users/mv/Code/corpus-unpdf/.venv/lib/python3.11/site-packages/ipykernel/kernelbase.py:513> wait_for=<Future pending cb=[Task.task_wakeup()] created at /Users/mv/Code/corpus-unpdf/.venv/lib/python3.11/site-packages/tornado/queues.py:248> cb=[IOLoop.add_future.<locals>.<lambda>() at /Users/mv/Code/corpus-unpdf/.venv/lib/python3.11/site-packages/tornado/ioloop.py:685] created at /Users/mv/.pyenv/versions/3.11.3/lib/python3.11/asyncio/tasks.py:670> took 1.178 seconds\n"
     ]
    }
   ],
   "source": [
    "from corpus_unpdf.src import get_img_from_page, get_img_from_pdf_first_page, filter_criteria_line\n",
    "from corpus_unpdf.src.content_markers import get_contours\n",
    "import pytesseract\n",
    "GREEN = (36, 255, 12)\n",
    "BLUE = (255, 160, 122)\n",
    "        \n",
    "p = Path().cwd() / \"data\" /  \"opinion\" / \"5.pdf\"        \n",
    "im = get_img_from_pdf_first_page(p)\n",
    "lines = filter_criteria_line(im)\n",
    "for l in lines:\n",
    "    print(l.obj)\n",
    "    l.mark_box()\n",
    "# marker_y0 = c.y\n",
    "# marker_y1 = c.y + c.h\n",
    "# sliced_im = c.im[marker_y0:marker_y1, c.x:c.x+c.w]\n",
    "# cv2.rectangle(c.im, (c.x, marker_y0), (c.x+c.w,marker_y1), GREEN, 2)\n",
    "cv2.imwrite('temp/sample_boxes.png', im)"
   ]
  },
  {
   "cell_type": "code",
   "execution_count": 3,
   "metadata": {},
   "outputs": [
    {
     "name": "stderr",
     "output_type": "stream",
     "text": [
      "Executing <Task pending name='Task-3' coro=<Kernel.dispatch_queue() running at /Users/mv/Code/corpus-unpdf/.venv/lib/python3.11/site-packages/ipykernel/kernelbase.py:513> wait_for=<Future pending cb=[Task.task_wakeup()] created at /Users/mv/Code/corpus-unpdf/.venv/lib/python3.11/site-packages/tornado/queues.py:248> cb=[IOLoop.add_future.<locals>.<lambda>() at /Users/mv/Code/corpus-unpdf/.venv/lib/python3.11/site-packages/tornado/ioloop.py:685] created at /Users/mv/.pyenv/versions/3.11.3/lib/python3.11/asyncio/tasks.py:670> took 1.160 seconds\n"
     ]
    }
   ],
   "source": [
    "# page, im = get_page_and_img(opin3, 0)\n",
    "# im_h, im_w, _ = im.shape\n",
    "# im.shape\n",
    "# cv2.imwrite('temp/sample.png', im[0:im_h, 0:im_w,])\n",
    "# import pytesseract\n",
    "# cv2.rectangle(im, (1160, 850), (1160 + 359, 850 + 78), (36, 255, 12), 2)\n",
    "# cv2.imwrite('temp/sample.png', im[850:850+78, 1160:1160+359,])\n",
    "# 850 is y axis position\n",
    "# 850 + 78 = y axis + height\n",
    "# 1160 is x axis position\n",
    "# 1160 + 359 = x axis + width"
   ]
  }
 ],
 "metadata": {
  "kernelspec": {
   "display_name": ".venv",
   "language": "python",
   "name": "python3"
  },
  "language_info": {
   "codemirror_mode": {
    "name": "ipython",
    "version": 3
   },
   "file_extension": ".py",
   "mimetype": "text/x-python",
   "name": "python",
   "nbconvert_exporter": "python",
   "pygments_lexer": "ipython3",
   "version": "3.11.3"
  },
  "orig_nbformat": 4,
  "vscode": {
   "interpreter": {
    "hash": "90804bc5e0b34f10be1f595819c320783cb4f797089fd1b5f885290b3e04da5a"
   }
  }
 },
 "nbformat": 4,
 "nbformat_minor": 2
}
