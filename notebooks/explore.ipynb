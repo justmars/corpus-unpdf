{
 "cells": [
  {
   "cell_type": "code",
   "execution_count": 1,
   "metadata": {},
   "outputs": [],
   "source": [
    "import pdfplumber\n",
    "import numpy\n",
    "import cv2\n",
    "from corpus_unpdf import Decision, get_decision\n",
    "from corpus_unpdf.src import (\n",
    "    get_page_and_img, get_contours, \n",
    "    get_reverse_pages_and_imgs, \n",
    "    get_header_line, get_page_end,\n",
    "    PositionCourtComposition)\n",
    "from corpus_unpdf.src.common.slice import get_centered_coordinates, PageCut\n",
    "from pathlib import Path"
   ]
  },
  {
   "cell_type": "code",
   "execution_count": 2,
   "metadata": {},
   "outputs": [
    {
     "name": "stderr",
     "output_type": "stream",
     "text": [
      "Executing <Task pending name='Task-3' coro=<Kernel.dispatch_queue() running at /Users/mv/Code/corpus-unpdf/.venv/lib/python3.11/site-packages/ipykernel/kernelbase.py:513> wait_for=<Future pending cb=[Task.task_wakeup()] created at /Users/mv/Code/corpus-unpdf/.venv/lib/python3.11/site-packages/tornado/queues.py:248> cb=[IOLoop.add_future.<locals>.<lambda>() at /Users/mv/Code/corpus-unpdf/.venv/lib/python3.11/site-packages/tornado/ioloop.py:687] created at /Users/mv/.pyenv/versions/3.11.1/lib/python3.11/asyncio/tasks.py:670> took 0.372 seconds\n"
     ]
    }
   ],
   "source": [
    "target = Path().cwd() / \"data\" / \"data1.pdf\""
   ]
  },
  {
   "cell_type": "code",
   "execution_count": 3,
   "metadata": {},
   "outputs": [],
   "source": [
    "page, im = get_page_and_img(target, 0)"
   ]
  },
  {
   "cell_type": "code",
   "execution_count": 4,
   "metadata": {},
   "outputs": [
    {
     "name": "stderr",
     "output_type": "stream",
     "text": [
      "Executing <Task pending name='Task-3' coro=<Kernel.dispatch_queue() running at /Users/mv/Code/corpus-unpdf/.venv/lib/python3.11/site-packages/ipykernel/kernelbase.py:513> wait_for=<Future pending cb=[Task.task_wakeup()] created at /Users/mv/Code/corpus-unpdf/.venv/lib/python3.11/site-packages/tornado/queues.py:248> cb=[IOLoop.add_future.<locals>.<lambda>() at /Users/mv/Code/corpus-unpdf/.venv/lib/python3.11/site-packages/tornado/ioloop.py:687] created at /Users/mv/.pyenv/versions/3.11.1/lib/python3.11/asyncio/tasks.py:670> took 3.276 seconds\n"
     ]
    },
    {
     "data": {
      "text/plain": [
       "(819.12, 891.7968)"
      ]
     },
     "execution_count": 4,
     "metadata": {},
     "output_type": "execute_result"
    },
    {
     "name": "stderr",
     "output_type": "stream",
     "text": [
      "Executing <Task pending name='Task-3' coro=<Kernel.dispatch_queue() running at /Users/mv/Code/corpus-unpdf/.venv/lib/python3.11/site-packages/ipykernel/kernelbase.py:513> wait_for=<Future pending cb=[Task.task_wakeup()] created at /Users/mv/Code/corpus-unpdf/.venv/lib/python3.11/site-packages/tornado/queues.py:248> cb=[IOLoop.add_future.<locals>.<lambda>() at /Users/mv/Code/corpus-unpdf/.venv/lib/python3.11/site-packages/tornado/ioloop.py:687] created at /Users/mv/.pyenv/versions/3.11.1/lib/python3.11/asyncio/tasks.py:670> took 0.236 seconds\n"
     ]
    }
   ],
   "source": [
    "get_page_end(im, page)"
   ]
  },
  {
   "cell_type": "code",
   "execution_count": null,
   "metadata": {},
   "outputs": [],
   "source": [
    "PageCut.set(page=page, y0=682.56, y1=590.88)"
   ]
  },
  {
   "cell_type": "code",
   "execution_count": null,
   "metadata": {},
   "outputs": [],
   "source": [
    "im_h, im_w, im_d = im.shape\n",
    "cv2.imwrite('temp/sample.png', im[0:682.5600000000001, 0:im_w,])"
   ]
  },
  {
   "cell_type": "code",
   "execution_count": null,
   "metadata": {},
   "outputs": [],
   "source": []
  },
  {
   "cell_type": "code",
   "execution_count": null,
   "metadata": {},
   "outputs": [],
   "source": [
    "page, im = get_page_and_img(target, 0)"
   ]
  },
  {
   "cell_type": "code",
   "execution_count": null,
   "metadata": {},
   "outputs": [],
   "source": [
    "res = get_centered_coordinates(im, \"First Division\")"
   ]
  },
  {
   "cell_type": "code",
   "execution_count": null,
   "metadata": {},
   "outputs": [],
   "source": [
    "res"
   ]
  },
  {
   "cell_type": "code",
   "execution_count": null,
   "metadata": {},
   "outputs": [],
   "source": [
    "res = PositionCourtComposition.extract(im)"
   ]
  },
  {
   "cell_type": "code",
   "execution_count": null,
   "metadata": {},
   "outputs": [],
   "source": [
    "page, im = get_page_and_img(target, 4)\n",
    "im_h, im_w, _ = im.shape\n",
    "im.shape\n",
    "cv2.imwrite('temp/sample.png', im[0:im_h, 0:im_w,])\n",
    "# import pytesseract\n",
    "# cv2.rectangle(im, (1160, 850), (1160 + 359, 850 + 78), (36, 255, 12), 2)\n",
    "# cv2.imwrite('temp/sample.png', im[850:850+78, 1160:1160+359,])\n",
    "# 850 is y axis position\n",
    "# 850 + 78 = y axis + height\n",
    "# 1160 is x axis position\n",
    "# 1160 + 359 = x axis + width"
   ]
  }
 ],
 "metadata": {
  "kernelspec": {
   "display_name": ".venv",
   "language": "python",
   "name": "python3"
  },
  "language_info": {
   "codemirror_mode": {
    "name": "ipython",
    "version": 3
   },
   "file_extension": ".py",
   "mimetype": "text/x-python",
   "name": "python",
   "nbconvert_exporter": "python",
   "pygments_lexer": "ipython3",
   "version": "3.11.1"
  },
  "orig_nbformat": 4,
  "vscode": {
   "interpreter": {
    "hash": "90804bc5e0b34f10be1f595819c320783cb4f797089fd1b5f885290b3e04da5a"
   }
  }
 },
 "nbformat": 4,
 "nbformat_minor": 2
}
