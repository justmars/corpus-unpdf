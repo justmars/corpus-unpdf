{
 "cells": [
  {
   "cell_type": "code",
   "execution_count": null,
   "metadata": {},
   "outputs": [],
   "source": [
    "import pdfplumber\n",
    "import numpy\n",
    "import cv2\n",
    "from pathlib import Path\n",
    "from corpus_unpdf import Decision, get_decision, get_opinion\n",
    "from corpus_unpdf.src import (\n",
    "    get_start_page_pos,\n",
    "    get_page_and_img, get_contours, \n",
    "    get_reverse_pages_and_imgs, \n",
    "    get_header_line, get_page_end,\n",
    "    PositionCourtComposition, get_likelihood_centered_coordinates, PageCut)\n",
    "from corpus_unpdf.src.content_markers import PositionOpinion\n"
   ]
  },
  {
   "cell_type": "code",
   "execution_count": null,
   "metadata": {},
   "outputs": [],
   "source": [
    "target2 = Path().cwd() / \"data\" /  \"opinion\" / \"1.pdf\"\n",
    "target1 = Path().cwd() / \"data\" /  \"plural\" / \"2.pdf\"\n",
    "target = Path().cwd() / \"data\" / \"data1.pdf\"\n",
    "t = target2"
   ]
  },
  {
   "cell_type": "code",
   "execution_count": null,
   "metadata": {},
   "outputs": [],
   "source": [
    "decision = get_decision(t)"
   ]
  },
  {
   "cell_type": "code",
   "execution_count": null,
   "metadata": {},
   "outputs": [],
   "source": [
    "decision.pages[0]"
   ]
  },
  {
   "cell_type": "code",
   "execution_count": null,
   "metadata": {},
   "outputs": [],
   "source": [
    "page, im = get_page_and_img(target, 4)\n",
    "im_h, im_w, _ = im.shape\n",
    "im.shape\n",
    "cv2.imwrite('temp/sample.png', im[0:im_h, 0:im_w,])\n",
    "# import pytesseract\n",
    "# cv2.rectangle(im, (1160, 850), (1160 + 359, 850 + 78), (36, 255, 12), 2)\n",
    "# cv2.imwrite('temp/sample.png', im[850:850+78, 1160:1160+359,])\n",
    "# 850 is y axis position\n",
    "# 850 + 78 = y axis + height\n",
    "# 1160 is x axis position\n",
    "# 1160 + 359 = x axis + width"
   ]
  }
 ],
 "metadata": {
  "kernelspec": {
   "display_name": ".venv",
   "language": "python",
   "name": "python3"
  },
  "language_info": {
   "codemirror_mode": {
    "name": "ipython",
    "version": 3
   },
   "file_extension": ".py",
   "mimetype": "text/x-python",
   "name": "python",
   "nbconvert_exporter": "python",
   "pygments_lexer": "ipython3",
   "version": "3.11.1"
  },
  "orig_nbformat": 4,
  "vscode": {
   "interpreter": {
    "hash": "90804bc5e0b34f10be1f595819c320783cb4f797089fd1b5f885290b3e04da5a"
   }
  }
 },
 "nbformat": 4,
 "nbformat_minor": 2
}
