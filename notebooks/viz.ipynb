{
 "cells": [
  {
   "cell_type": "code",
   "execution_count": 1,
   "metadata": {},
   "outputs": [],
   "source": [
    "from pathlib import Path\n",
    "import cv2\n",
    "from PIL import Image\n",
    "import pytesseract\n",
    "from corpus_unpdf import get_img"
   ]
  },
  {
   "cell_type": "code",
   "execution_count": 2,
   "metadata": {},
   "outputs": [
    {
     "name": "stderr",
     "output_type": "stream",
     "text": [
      "Executing <Task pending name='Task-3' coro=<Kernel.dispatch_queue() running at /Users/mv/Code/nb/.venv/lib/python3.11/site-packages/ipykernel/kernelbase.py:512> wait_for=<Future pending cb=[Task.task_wakeup()] created at /Users/mv/Code/nb/.venv/lib/python3.11/site-packages/tornado/queues.py:248> cb=[IOLoop.add_future.<locals>.<lambda>() at /Users/mv/Code/nb/.venv/lib/python3.11/site-packages/tornado/ioloop.py:687] created at /Users/mv/.pyenv/versions/3.11.1/lib/python3.11/asyncio/tasks.py:670> took 0.226 seconds\n"
     ]
    }
   ],
   "source": [
    "ROI = \"temp/roi.png\"\n",
    "HEADER_TOP = 350\n",
    "WIDTH_HEIGHT = (50,10)\n",
    "COLOR_GREEN = (36, 255, 12)\n",
    "LINE_INDICATOR_HEIGHT = 20\n",
    "LINE_INDICATOR_WIDTH = 300"
   ]
  },
  {
   "cell_type": "code",
   "execution_count": 3,
   "metadata": {},
   "outputs": [],
   "source": [
    "PAGE_NUM = 2\n",
    "im = get_img(Path().cwd() / \"data\" / \"data1.pdf\", pagenum=PAGE_NUM)"
   ]
  },
  {
   "cell_type": "code",
   "execution_count": 4,
   "metadata": {},
   "outputs": [
    {
     "name": "stderr",
     "output_type": "stream",
     "text": [
      "Executing <Task pending name='Task-3' coro=<Kernel.dispatch_queue() running at /Users/mv/Code/nb/.venv/lib/python3.11/site-packages/ipykernel/kernelbase.py:512> wait_for=<Future pending cb=[Task.task_wakeup()] created at /Users/mv/Code/nb/.venv/lib/python3.11/site-packages/tornado/queues.py:248> cb=[IOLoop.add_future.<locals>.<lambda>() at /Users/mv/Code/nb/.venv/lib/python3.11/site-packages/tornado/ioloop.py:687] created at /Users/mv/.pyenv/versions/3.11.1/lib/python3.11/asyncio/tasks.py:670> took 1.094 seconds\n"
     ]
    }
   ],
   "source": [
    "import numpy\n",
    "opencvImage = cv2.cvtColor(numpy.array(im), cv2.COLOR_RGB2BGR)\n",
    "base_image = opencvImage.copy()\n",
    "im_h, im_w, im_d = opencvImage.shape"
   ]
  },
  {
   "cell_type": "code",
   "execution_count": 5,
   "metadata": {},
   "outputs": [],
   "source": [
    "gray = cv2.cvtColor(opencvImage, cv2.COLOR_BGR2GRAY)\n",
    "blur = cv2.GaussianBlur(gray, (7,7), 0)\n",
    "thresh = cv2.threshold(blur, 0, 255, cv2.THRESH_BINARY_INV + cv2.THRESH_OTSU)[1]"
   ]
  },
  {
   "cell_type": "code",
   "execution_count": 6,
   "metadata": {},
   "outputs": [
    {
     "data": {
      "text/plain": [
       "True"
      ]
     },
     "execution_count": 6,
     "metadata": {},
     "output_type": "execute_result"
    }
   ],
   "source": [
    "kernel = cv2.getStructuringElement(cv2.MORPH_RECT, WIDTH_HEIGHT)\n",
    "dilate = cv2.dilate(thresh, kernel, iterations=1)\n",
    "cv2.imwrite(\"temp/sample_dilated.png\", dilate)"
   ]
  },
  {
   "cell_type": "code",
   "execution_count": 7,
   "metadata": {},
   "outputs": [],
   "source": [
    "cnts = cv2.findContours(dilate, cv2.RETR_EXTERNAL, cv2.CHAIN_APPROX_SIMPLE)\n",
    "cnts = cnts[0] if len(cnts) == 2 else cnts[1]\n",
    "cnts = sorted(cnts, key=lambda x: cv2.boundingRect(x)[1])"
   ]
  },
  {
   "cell_type": "code",
   "execution_count": 8,
   "metadata": {},
   "outputs": [
    {
     "name": "stdout",
     "output_type": "stream",
     "text": [
      "x=426, y=3485, w=499, h=13\n"
     ]
    },
    {
     "data": {
      "text/plain": [
       "True"
      ]
     },
     "execution_count": 8,
     "metadata": {},
     "output_type": "execute_result"
    }
   ],
   "source": [
    "for c in cnts:\n",
    "    x, y, w, h = cv2.boundingRect(c)\n",
    "    if w > LINE_INDICATOR_WIDTH and h < LINE_INDICATOR_HEIGHT: # spot footnote indicator, see related kernel (50, 10)\n",
    "        print(f\"{x=}, {y=}, {w=}, {h=}\")\n",
    "        cv2.rectangle(opencvImage, (x,y), (x+w, y+h), COLOR_GREEN, 2)\n",
    "        roi = base_image[HEADER_TOP : y + h, 0 : x + im_w]\n",
    "cv2.imwrite(\"temp/sample_boxes.png\", opencvImage)"
   ]
  },
  {
   "cell_type": "code",
   "execution_count": 14,
   "metadata": {},
   "outputs": [
    {
     "name": "stdout",
     "output_type": "stream",
     "text": [
      "Reveal ROI\n"
     ]
    },
    {
     "name": "stderr",
     "output_type": "stream",
     "text": [
      "Executing <Task pending name='Task-3' coro=<Kernel.dispatch_queue() running at /Users/mv/Code/nb/.venv/lib/python3.11/site-packages/ipykernel/kernelbase.py:512> wait_for=<Future pending cb=[Task.task_wakeup()] created at /Users/mv/Code/nb/.venv/lib/python3.11/site-packages/tornado/queues.py:248> cb=[IOLoop.add_future.<locals>.<lambda>() at /Users/mv/Code/nb/.venv/lib/python3.11/site-packages/tornado/ioloop.py:687] created at /Users/mv/.pyenv/versions/3.11.1/lib/python3.11/asyncio/tasks.py:670> took 2.481 seconds\n"
     ]
    }
   ],
   "source": [
    "from PIL import Image\n",
    "try: # roi found\n",
    "    cv2.imwrite(ROI, roi)\n",
    "    ocr_result = pytesseract.image_to_string(roi)\n",
    "    pilimg = Image.open(ROI)\n",
    "    pilimg.save(\n",
    "        \"temp/temp.pdf\", \"PDF\" ,resolution=100.0, save_all=True\n",
    "    )\t\n",
    "    print(\"Reveal ROI\")    \n",
    "\n",
    "except NameError: # no roi, just remove header\n",
    "    cv2.imwrite(ROI, base_image)\n",
    "    ocr_result = pytesseract.image_to_string(base_image[HEADER_TOP:im_h, 0:im_w])\n",
    "    pilimg = Image.open(ROI)\n",
    "    pilimg.save(\n",
    "        \"temp/temp.pdf\", \"PDF\" ,resolution=300.0, save_all=True\n",
    "    )\t\n",
    "    print(\"Reveal base\")\n"
   ]
  },
  {
   "cell_type": "code",
   "execution_count": 19,
   "metadata": {},
   "outputs": [
    {
     "data": {
      "text/plain": [
       "'(i.e., physical illness, length of service, first offense) attendant to the\\ncommission of the offense shall be considered. Since this is the first time\\nthat respondent Sheriff Padua will be penalized for simple neglect of duty,\\nthe penalty of fine in the amount of Five Thousand Pesos (25,000.00) is\\nappropriate.\"\\n\\nCourt’s Rulin\\n\\nThe Court agrees with the OCA’s finding that Padua is guilty of\\nsimple neglect of duty but increases the fine to an amount equivalent to his\\nsalary for one month.\\n\\nSection 14, Rule 39 of the Rules of Court states that sheriffs must\\nmake a report to the court every thirty days until the judgment is satisfied in\\nfull:\\n\\nSEC. 14. Return of writ of execution. — The writ of execution shall\\nbe returnable to the court issuing it immediately after the judgment has\\nbeen satisfied in part or in full. If the judgment cannot be satisfied in\\nfull within thirty (30) days after his receipt of the writ, the officer shall\\nreport to the court and state the reason therefor. Such writ shall\\ncontinue in effect during the period within which the judgment may be\\nenforced by motion. The officer shall make a report to the court every\\nthirty (30) days on the proceedings taken thereon until the judgment is\\nsatisfied in full, or its effectivity expires. The returns or periodic\\nreports shall set forth the whole of the proceedings taken, and shall be\\nfiled with the court and copies thereof promptly furnished the parties.\\n(Boldfacing supplied)\\n\\nIn the present case, Padua failed to report to the court and state the\\nreason why the judgment was not satisfied in full within 30 days after his\\nreceipt of the writ. Despite the 9 March 2010, 4 July 2010 and 20 January\\n2011 motions filed by Atty. Sanglay, Padua failed to make a report to the\\ncourt every 30 days on the proceedings taken. In fact, Padua made a partial\\nreport only after almost two years and only after Atty. Sanglay filed the\\npresent administrative complaint.\\n\\nIn Tablate v. Rafieses,\\'* the Court found a sheriff guilty of simple\\nneglect of duty and fined him an amount equivalent to his salary for one\\nmonth for failing to make reports. The Court held that:\\n\\nTime and again, this Court stressed upon those tasked to implement\\ncourt orders and processes to see to it that the final stage of the litigation\\nprocess — the execution of judgment — be carried out promptly. Sheriffs,\\nin particular, should exert every effort and consider it their bounden duty\\nbecause a decision left unexecuted or delayed indefinitely is nothing but\\nan empty victory on the part of the prevailing party.\\n\\n'"
      ]
     },
     "execution_count": 19,
     "metadata": {},
     "output_type": "execute_result"
    }
   ],
   "source": [
    "ocr_result"
   ]
  },
  {
   "cell_type": "code",
   "execution_count": 15,
   "metadata": {},
   "outputs": [],
   "source": [
    "import pdfplumber\n",
    "pdf = pdfplumber.open(\"temp/temp.pdf\")"
   ]
  },
  {
   "cell_type": "code",
   "execution_count": 20,
   "metadata": {},
   "outputs": [
    {
     "data": {
      "text/plain": [
       "''"
      ]
     },
     "execution_count": 20,
     "metadata": {},
     "output_type": "execute_result"
    },
    {
     "name": "stderr",
     "output_type": "stream",
     "text": [
      "/Users/mv/.pyenv/versions/3.11.1/lib/python3.11/traceback.py:391: ResourceWarning: unclosed file <_io.FileIO name='temp/temp.pdf' mode='rb' closefd=True>\n",
      "  yield f, (lineno, None, None, None)\n",
      "ResourceWarning: Enable tracemalloc to get the object allocation traceback\n"
     ]
    }
   ],
   "source": [
    "pdf.pages[0].extract_text()"
   ]
  }
 ],
 "metadata": {
  "kernelspec": {
   "display_name": ".venv",
   "language": "python",
   "name": "python3"
  },
  "language_info": {
   "codemirror_mode": {
    "name": "ipython",
    "version": 3
   },
   "file_extension": ".py",
   "mimetype": "text/x-python",
   "name": "python",
   "nbconvert_exporter": "python",
   "pygments_lexer": "ipython3",
   "version": "3.11.1 (main, Dec  9 2022, 22:35:02) [Clang 14.0.0 (clang-1400.0.29.202)]"
  },
  "orig_nbformat": 4,
  "vscode": {
   "interpreter": {
    "hash": "cb7853ece70b40686b4af14f9f0121d44caa159afecbb8bc9ea6a753222ce8bd"
   }
  }
 },
 "nbformat": 4,
 "nbformat_minor": 2
}
