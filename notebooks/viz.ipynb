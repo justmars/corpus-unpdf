{
 "cells": [
  {
   "cell_type": "code",
   "execution_count": null,
   "metadata": {},
   "outputs": [],
   "source": [
    "from pathlib import Path\n",
    "import cv2\n",
    "from PIL import Image\n",
    "import pytesseract\n",
    "from corpus_unpdf import get_img\n",
    "ROI = \"temp/roi.png\"\n",
    "PAGE_NUM = 0\n",
    "PDF = Path().cwd() / \"data\" / \"data2.pdf\"\n",
    "im = get_img(PDF, pagenum=PAGE_NUM)"
   ]
  },
  {
   "cell_type": "code",
   "execution_count": null,
   "metadata": {},
   "outputs": [],
   "source": [
    "import numpy\n",
    "opencvImage = cv2.cvtColor(numpy.array(im), cv2.COLOR_RGB2BGR)\n",
    "base_image = opencvImage.copy()\n",
    "im_h, im_w, im_d = opencvImage.shape"
   ]
  },
  {
   "cell_type": "code",
   "execution_count": null,
   "metadata": {},
   "outputs": [],
   "source": [
    "from corpus_unpdf.images.pdf_lines import get_contours\n",
    "im_h, im_w, _ = opencvImage.shape\n",
    "for c in get_contours(opencvImage, (30, 10)):\n",
    "    x, y, w, h = cv2.boundingRect(c)\n",
    "    if w > 1200:\n",
    "      print(f\"{x}, {y}, {w}, {h}: {(y + h) / im_h}\")\n",
    "      cv2.rectangle(opencvImage, (x,y), (x+w, y+h), (36, 255, 12), 3)\n",
    "cv2.imwrite(\"temp/sample_boxes.png\", opencvImage)"
   ]
  },
  {
   "cell_type": "code",
   "execution_count": null,
   "metadata": {},
   "outputs": [],
   "source": []
  },
  {
   "cell_type": "code",
   "execution_count": null,
   "metadata": {},
   "outputs": [],
   "source": [
    "import pdfplumber\n",
    "pdf = pdfplumber.open(PDF)\n",
    "page = pdf.pages[0]\n",
    "page.crop(\n",
    "  bbox=(0, page.height * start_decision_bottom, page.width, page.height),\n",
    "  relative=False,\n",
    "  strict=True,\n",
    ").to_image()"
   ]
  },
  {
   "cell_type": "code",
   "execution_count": null,
   "metadata": {},
   "outputs": [],
   "source": [
    "if footnote_top:\n",
    "  page.crop(\n",
    "    bbox=(0, (page.height * footnote_top) + 5, page.width, page.height * 0.938),\n",
    "    relative=False,\n",
    "    strict=True,\n",
    "  ).to_image()"
   ]
  },
  {
   "cell_type": "code",
   "execution_count": null,
   "metadata": {},
   "outputs": [],
   "source": [
    "from PIL import Image\n",
    "try: # roi found\n",
    "    cv2.imwrite(ROI, roi)\n",
    "    ocr_result = pytesseract.image_to_string(roi)\n",
    "    pilimg = Image.open(ROI)\n",
    "    pilimg.save(\n",
    "        \"temp/temp.pdf\", \"PDF\" ,resolution=100.0, save_all=True\n",
    "    )\t\n",
    "    print(\"Reveal ROI\")    \n",
    "\n",
    "except NameError: # no roi, just remove header\n",
    "    cv2.imwrite(ROI, base_image)\n",
    "    ocr_result = pytesseract.image_to_string(base_image[HEADER_TOP:im_h, 0:im_w])\n",
    "    pilimg = Image.open(ROI)\n",
    "    pilimg.save(\n",
    "        \"temp/temp.pdf\", \"PDF\" ,resolution=300.0, save_all=True\n",
    "    )\t\n",
    "    print(\"Reveal base\")\n"
   ]
  },
  {
   "cell_type": "code",
   "execution_count": null,
   "metadata": {},
   "outputs": [],
   "source": [
    "ocr_result"
   ]
  },
  {
   "cell_type": "code",
   "execution_count": null,
   "metadata": {},
   "outputs": [],
   "source": [
    "import pdfplumber\n",
    "pdf = pdfplumber.open(\"temp/temp.pdf\")"
   ]
  },
  {
   "cell_type": "code",
   "execution_count": null,
   "metadata": {},
   "outputs": [],
   "source": [
    "pdf.pages[0].extract_text()"
   ]
  }
 ],
 "metadata": {
  "kernelspec": {
   "display_name": ".venv",
   "language": "python",
   "name": "python3"
  },
  "language_info": {
   "codemirror_mode": {
    "name": "ipython",
    "version": 3
   },
   "file_extension": ".py",
   "mimetype": "text/x-python",
   "name": "python",
   "nbconvert_exporter": "python",
   "pygments_lexer": "ipython3",
   "version": "3.11.1"
  },
  "orig_nbformat": 4,
  "vscode": {
   "interpreter": {
    "hash": "90804bc5e0b34f10be1f595819c320783cb4f797089fd1b5f885290b3e04da5a"
   }
  }
 },
 "nbformat": 4,
 "nbformat_minor": 2
}
