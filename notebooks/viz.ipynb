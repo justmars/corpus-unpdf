{
 "cells": [
  {
   "cell_type": "code",
   "execution_count": null,
   "metadata": {},
   "outputs": [],
   "source": [
    "from pathlib import Path\n",
    "import cv2\n",
    "from PIL import Image\n",
    "import pytesseract\n",
    "from corpus_unpdf import get_img"
   ]
  },
  {
   "cell_type": "code",
   "execution_count": null,
   "metadata": {},
   "outputs": [],
   "source": [
    "ROI = \"temp/roi.png\"\n",
    "HEADER_TOP = 350\n",
    "WIDTH_HEIGHT = (50,10)\n",
    "COLOR_GREEN = (36, 255, 12)\n",
    "LINE_INDICATOR_HEIGHT = 20\n",
    "LINE_INDICATOR_WIDTH = 300"
   ]
  },
  {
   "cell_type": "code",
   "execution_count": null,
   "metadata": {},
   "outputs": [],
   "source": [
    "PAGE_NUM = 2\n",
    "im = get_img(Path().cwd() / \"data\" / \"data1.pdf\", pagenum=PAGE_NUM)"
   ]
  },
  {
   "cell_type": "code",
   "execution_count": null,
   "metadata": {},
   "outputs": [],
   "source": [
    "import numpy\n",
    "opencvImage = cv2.cvtColor(numpy.array(im), cv2.COLOR_RGB2BGR)\n",
    "base_image = opencvImage.copy()\n",
    "im_h, im_w, im_d = opencvImage.shape"
   ]
  },
  {
   "cell_type": "code",
   "execution_count": null,
   "metadata": {},
   "outputs": [],
   "source": [
    "gray = cv2.cvtColor(opencvImage, cv2.COLOR_BGR2GRAY)\n",
    "blur = cv2.GaussianBlur(gray, (7,7), 0)\n",
    "thresh = cv2.threshold(blur, 0, 255, cv2.THRESH_BINARY_INV + cv2.THRESH_OTSU)[1]"
   ]
  },
  {
   "cell_type": "code",
   "execution_count": null,
   "metadata": {},
   "outputs": [],
   "source": [
    "kernel = cv2.getStructuringElement(cv2.MORPH_RECT, WIDTH_HEIGHT)\n",
    "dilate = cv2.dilate(thresh, kernel, iterations=1)\n",
    "cv2.imwrite(\"temp/sample_dilated.png\", dilate)"
   ]
  },
  {
   "cell_type": "code",
   "execution_count": null,
   "metadata": {},
   "outputs": [],
   "source": [
    "cnts = cv2.findContours(dilate, cv2.RETR_EXTERNAL, cv2.CHAIN_APPROX_SIMPLE)\n",
    "cnts = cnts[0] if len(cnts) == 2 else cnts[1]\n",
    "cnts = sorted(cnts, key=lambda x: cv2.boundingRect(x)[1])"
   ]
  },
  {
   "cell_type": "code",
   "execution_count": null,
   "metadata": {},
   "outputs": [],
   "source": [
    "for c in cnts:\n",
    "    x, y, w, h = cv2.boundingRect(c)\n",
    "    if w > LINE_INDICATOR_WIDTH and h < LINE_INDICATOR_HEIGHT: # spot footnote indicator, see related kernel (50, 10)\n",
    "        print(f\"{x=}, {y=}, {w=}, {h=}\")\n",
    "        cv2.rectangle(opencvImage, (x,y), (x+w, y+h), COLOR_GREEN, 2)\n",
    "        roi = base_image[HEADER_TOP : y + h, 0 : x + im_w]\n",
    "cv2.imwrite(\"temp/sample_boxes.png\", opencvImage)"
   ]
  },
  {
   "cell_type": "code",
   "execution_count": null,
   "metadata": {},
   "outputs": [],
   "source": [
    "from PIL import Image\n",
    "try: # roi found\n",
    "    cv2.imwrite(ROI, roi)\n",
    "    ocr_result = pytesseract.image_to_string(roi)\n",
    "    pilimg = Image.open(ROI)\n",
    "    pilimg.save(\n",
    "        \"temp/temp.pdf\", \"PDF\" ,resolution=100.0, save_all=True\n",
    "    )\t\n",
    "    print(\"Reveal ROI\")    \n",
    "\n",
    "except NameError: # no roi, just remove header\n",
    "    cv2.imwrite(ROI, base_image)\n",
    "    ocr_result = pytesseract.image_to_string(base_image[HEADER_TOP:im_h, 0:im_w])\n",
    "    pilimg = Image.open(ROI)\n",
    "    pilimg.save(\n",
    "        \"temp/temp.pdf\", \"PDF\" ,resolution=300.0, save_all=True\n",
    "    )\t\n",
    "    print(\"Reveal base\")\n"
   ]
  },
  {
   "cell_type": "code",
   "execution_count": null,
   "metadata": {},
   "outputs": [],
   "source": [
    "ocr_result"
   ]
  },
  {
   "cell_type": "code",
   "execution_count": null,
   "metadata": {},
   "outputs": [],
   "source": [
    "import pdfplumber\n",
    "pdf = pdfplumber.open(\"temp/temp.pdf\")"
   ]
  },
  {
   "cell_type": "code",
   "execution_count": null,
   "metadata": {},
   "outputs": [],
   "source": [
    "pdf.pages[0].extract_text()"
   ]
  }
 ],
 "metadata": {
  "kernelspec": {
   "display_name": ".venv",
   "language": "python",
   "name": "python3"
  },
  "language_info": {
   "codemirror_mode": {
    "name": "ipython",
    "version": 3
   },
   "file_extension": ".py",
   "mimetype": "text/x-python",
   "name": "python",
   "nbconvert_exporter": "python",
   "pygments_lexer": "ipython3",
   "version": "3.11.1 (main, Dec  9 2022, 22:35:02) [Clang 14.0.0 (clang-1400.0.29.202)]"
  },
  "orig_nbformat": 4,
  "vscode": {
   "interpreter": {
    "hash": "90804bc5e0b34f10be1f595819c320783cb4f797089fd1b5f885290b3e04da5a"
   }
  }
 },
 "nbformat": 4,
 "nbformat_minor": 2
}
