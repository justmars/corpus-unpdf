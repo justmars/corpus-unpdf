{
 "cells": [
  {
   "cell_type": "code",
   "execution_count": null,
   "metadata": {},
   "outputs": [],
   "source": [
    "import cv2\n",
    "import numpy\n",
    "import pytesseract\n",
    "from pathlib import Path\n",
    "from PIL import Image\n",
    "from corpus_unpdf import get_img, extract_slices"
   ]
  },
  {
   "cell_type": "code",
   "execution_count": null,
   "metadata": {},
   "outputs": [],
   "source": [
    "PAGE_NUM = 0\n",
    "im = get_img(Path().cwd() / \"data\" / \"data1.pdf\", pagenum=0)\n",
    "opencvImage = cv2.cvtColor(numpy.array(im), cv2.COLOR_RGB2BGR)"
   ]
  },
  {
   "cell_type": "code",
   "execution_count": null,
   "metadata": {},
   "outputs": [],
   "source": [
    "CASE_PARTIES_STRUCTURE = (1000,30)\n",
    "# x <= 200 and w > 2000\n",
    "# break on first"
   ]
  },
  {
   "cell_type": "code",
   "execution_count": null,
   "metadata": {},
   "outputs": [],
   "source": [
    "JUSTICE_LIST = (20, 80)\n",
    "# x > im_w / 2 and w > 300 and h > 300\n",
    "# break on first"
   ]
  },
  {
   "cell_type": "code",
   "execution_count": null,
   "metadata": {},
   "outputs": [],
   "source": [
    "base_image = opencvImage.copy()\n",
    "im_h, im_w, im_d = opencvImage.shape\n",
    "opencvImage.shape"
   ]
  },
  {
   "cell_type": "code",
   "execution_count": null,
   "metadata": {},
   "outputs": [],
   "source": [
    "gray = cv2.cvtColor(opencvImage, cv2.COLOR_BGR2GRAY)\n",
    "blur = cv2.GaussianBlur(gray, (7,7), 0)\n",
    "thresh = cv2.threshold(blur, 0, 255, cv2.THRESH_BINARY_INV + cv2.THRESH_OTSU)[1]\n",
    "kernel = cv2.getStructuringElement(cv2.MORPH_RECT, JUSTICE_LIST)\n",
    "dilate = cv2.dilate(thresh, kernel, iterations=1)\n",
    "cv2.imwrite(\"temp/sample_dilated.png\", dilate)"
   ]
  },
  {
   "cell_type": "code",
   "execution_count": null,
   "metadata": {},
   "outputs": [],
   "source": [
    "cnts = cv2.findContours(dilate, cv2.RETR_EXTERNAL, cv2.CHAIN_APPROX_SIMPLE)\n",
    "cnts = cnts[0] if len(cnts) == 2 else cnts[1]\n",
    "cnts = sorted(cnts, key=lambda x: cv2.boundingRect(x)[1])"
   ]
  },
  {
   "cell_type": "code",
   "execution_count": null,
   "metadata": {},
   "outputs": [],
   "source": [
    "for c in cnts:\n",
    "    x, y, w, h = cv2.boundingRect(c)\n",
    "    if x > im_w / 2 and w > 300 and h > 300:\n",
    "        print(f\"{x=}, {y=}, {w=}, {h=}\")\n",
    "        cv2.rectangle(img=opencvImage, pt1=(x,y), pt2=(x+w, y+h), color=(36, 255, 12), thickness=2)\n",
    "        roi = base_image[y + h:im_h, 0 : x + im_w]\n",
    "        break\n",
    "cv2.imwrite(\"temp/sample_boxes.png\", opencvImage)"
   ]
  }
 ],
 "metadata": {
  "kernelspec": {
   "display_name": ".venv",
   "language": "python",
   "name": "python3"
  },
  "language_info": {
   "codemirror_mode": {
    "name": "ipython",
    "version": 3
   },
   "file_extension": ".py",
   "mimetype": "text/x-python",
   "name": "python",
   "nbconvert_exporter": "python",
   "pygments_lexer": "ipython3",
   "version": "3.11.1 (main, Dec  9 2022, 22:35:02) [Clang 14.0.0 (clang-1400.0.29.202)]"
  },
  "orig_nbformat": 4,
  "vscode": {
   "interpreter": {
    "hash": "90804bc5e0b34f10be1f595819c320783cb4f797089fd1b5f885290b3e04da5a"
   }
  }
 },
 "nbformat": 4,
 "nbformat_minor": 2
}
