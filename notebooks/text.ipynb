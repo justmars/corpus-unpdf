{
 "cells": [
  {
   "cell_type": "code",
   "execution_count": null,
   "metadata": {},
   "outputs": [],
   "source": [
    "from corpus_unpdf import extract_blocks"
   ]
  },
  {
   "cell_type": "code",
   "execution_count": null,
   "metadata": {},
   "outputs": [],
   "source": [
    "blocks = list(extract_blocks(\"data/data7.pdf\"))"
   ]
  },
  {
   "cell_type": "code",
   "execution_count": null,
   "metadata": {},
   "outputs": [],
   "source": [
    "blocks"
   ]
  },
  {
   "cell_type": "code",
   "execution_count": null,
   "metadata": {},
   "outputs": [],
   "source": [
    "max_num = len(blocks)\n",
    "for num, b in enumerate(blocks):\n",
    "    prior_num, next_num = num - 1, num + 1\n",
    "    if num == 0:\n",
    "        continue\n",
    "    if num == max_num:\n",
    "        break\n",
    "    if blocks[prior_num]['page'] == blocks[num]['page']:\n",
    "        if blocks[prior_num]['text'] and blocks[num]['text']:\n",
    "            blocks[prior_num]['text'] = blocks[prior_num]['text'].lstrip()\n",
    "            blocks[prior_num]['text'] += f\" {blocks[num]['text'].lstrip()}\"\n",
    "            blocks[num]['remove'] = True\n",
    "blocks = [block for block in blocks if not block.get('remove')]\n",
    "    "
   ]
  },
  {
   "cell_type": "code",
   "execution_count": null,
   "metadata": {},
   "outputs": [],
   "source": [
    "max_num = len(blocks)\n",
    "for num, b in enumerate(blocks):\n",
    "    prior_num, next_num = num - 1, num + 1\n",
    "    if num == 0:\n",
    "        continue\n",
    "    if num == max_num:\n",
    "        break\n",
    "    if blocks[prior_num]['page'] == blocks[num]['page']:\n",
    "        if not blocks[num].get(\"remove\"): # placed because via blocks['next_num']\n",
    "            if not blocks[num]['text']: # the present block is empty\n",
    "                if blocks[prior_num]['text'] and len(blocks[prior_num]['text'].split()) > 4: # avoid adding if < 4 words\n",
    "                    if blocks[next_num]['text']: # previous and next blocks are not empty\n",
    "                        blocks[prior_num]['text'] += f\" {blocks[next_num]['text']}\" # add previous to the next\n",
    "                        blocks[num]['remove'] = True\n",
    "                        blocks[next_num]['remove'] = True\n",
    "blocks = [block for block in blocks if not block.get('remove')]"
   ]
  },
  {
   "cell_type": "code",
   "execution_count": null,
   "metadata": {},
   "outputs": [],
   "source": [
    "from src.pdf_txt import extract_blocks\n",
    "\n",
    "with open(\"temp/temp1.txt\", \"w+\") as writefile:\n",
    "    for block in extract_blocks(\"data/data1.pdf\"):\n",
    "        writefile.write(f\"{block['text'].lstrip()}\\n\")"
   ]
  }
 ],
 "metadata": {
  "kernelspec": {
   "display_name": ".venv",
   "language": "python",
   "name": "python3"
  },
  "language_info": {
   "codemirror_mode": {
    "name": "ipython",
    "version": 3
   },
   "file_extension": ".py",
   "mimetype": "text/x-python",
   "name": "python",
   "nbconvert_exporter": "python",
   "pygments_lexer": "ipython3",
   "version": "3.11.1 (main, Dec  9 2022, 22:35:02) [Clang 14.0.0 (clang-1400.0.29.202)]"
  },
  "orig_nbformat": 4,
  "vscode": {
   "interpreter": {
    "hash": "90804bc5e0b34f10be1f595819c320783cb4f797089fd1b5f885290b3e04da5a"
   }
  }
 },
 "nbformat": 4,
 "nbformat_minor": 2
}
