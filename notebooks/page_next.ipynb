{
 "cells": [
  {
   "cell_type": "code",
   "execution_count": null,
   "metadata": {},
   "outputs": [],
   "source": [
    "import pdfplumber\n",
    "import numpy\n",
    "import cv2\n",
    "from corpus_unpdf.images import Decision\n",
    "from corpus_unpdf.images.contours import get_page_and_img, get_contours, get_reverse_pages_and_imgs\n",
    "from corpus_unpdf.images.elements import get_annex_y_axis, get_header_terminal\n",
    "from pathlib import Path\n",
    "from corpus_unpdf import get_img"
   ]
  },
  {
   "cell_type": "code",
   "execution_count": null,
   "metadata": {},
   "outputs": [],
   "source": [
    "target = Path().cwd() / \"data\" / \"data1.pdf\""
   ]
  },
  {
   "cell_type": "code",
   "execution_count": null,
   "metadata": {},
   "outputs": [],
   "source": [
    "decision = Decision.set_pages(target)"
   ]
  },
  {
   "cell_type": "code",
   "execution_count": null,
   "metadata": {},
   "outputs": [],
   "source": [
    "decision"
   ]
  },
  {
   "cell_type": "code",
   "execution_count": null,
   "metadata": {},
   "outputs": [],
   "source": [
    "data[1][-2].body.to_image()"
   ]
  },
  {
   "cell_type": "code",
   "execution_count": null,
   "metadata": {},
   "outputs": [],
   "source": [
    "page, im = get_page_and_img(target, 4)\n",
    "im_h, im_w, _ = im.shape\n",
    "im.shape"
   ]
  },
  {
   "cell_type": "code",
   "execution_count": null,
   "metadata": {},
   "outputs": [],
   "source": [
    "import pytesseract\n",
    "from difflib import SequenceMatcher\n",
    "import re\n",
    "\n",
    "ORDERED = re.compile(r\"so\\s+ordered.*\", re.I)\n",
    "BY_AUTHORITY = re.compile(r\"by\\s+authority\\s+of.*\", re.I)\n",
    "def get_terminal_page(target: Path):\n",
    "    for page, im in get_reverse_pages_and_imgs(target):\n",
    "        MIDPOINT = im_w / 2\n",
    "        for cnt in get_contours(im, (30, 30)):\n",
    "            x, y, w, h = cv2.boundingRect(cnt)\n",
    "            if h < 100:\n",
    "                if x < MIDPOINT:\n",
    "                    candidate = pytesseract.image_to_string(im[y:y+h, x:x+w,]).strip()\n",
    "                    if ORDERED.search(candidate):\n",
    "                        print(f\"{x=}, {y=}, {w=}, {h=}, {candidate=}\")\n",
    "                        return y, page.page_number\n",
    "                if x > MIDPOINT - 100:\n",
    "                    candidate = pytesseract.image_to_string(im[y:y+h, x:x+w,]).strip()\n",
    "                    if BY_AUTHORITY.search(candidate):\n",
    "                        print(f\"{x=}, {y=}, {w=}, {h=}, {candidate=}\")\n",
    "                        return y, page.page_number\n",
    "res = get_terminal_page(target)"
   ]
  },
  {
   "cell_type": "code",
   "execution_count": null,
   "metadata": {},
   "outputs": [],
   "source": [
    "res"
   ]
  },
  {
   "cell_type": "code",
   "execution_count": null,
   "metadata": {},
   "outputs": [],
   "source": [
    "end1, end2 = get_annex_y_axis(im, page)\n",
    "page.height, end1, end2 "
   ]
  },
  {
   "cell_type": "code",
   "execution_count": null,
   "metadata": {},
   "outputs": [],
   "source": [
    "cv2.imwrite('temp/sample.png', im[280:im_h, 0:im_w,])"
   ]
  },
  {
   "cell_type": "code",
   "execution_count": null,
   "metadata": {},
   "outputs": [],
   "source": [
    "# import pytesseract\n",
    "# cv2.rectangle(im, (1160, 850), (1160 + 359, 850 + 78), (36, 255, 12), 2)\n",
    "# cv2.imwrite('temp/sample.png', im[850:850+78, 1160:1160+359,])\n",
    "# 850 is y axis position\n",
    "# 850 + 78 = y axis + height\n",
    "# 1160 is x axis position\n",
    "# 1160 + 359 = x axis + width"
   ]
  }
 ],
 "metadata": {
  "kernelspec": {
   "display_name": ".venv",
   "language": "python",
   "name": "python3"
  },
  "language_info": {
   "codemirror_mode": {
    "name": "ipython",
    "version": 3
   },
   "file_extension": ".py",
   "mimetype": "text/x-python",
   "name": "python",
   "nbconvert_exporter": "python",
   "pygments_lexer": "ipython3",
   "version": "3.11.1"
  },
  "orig_nbformat": 4,
  "vscode": {
   "interpreter": {
    "hash": "90804bc5e0b34f10be1f595819c320783cb4f797089fd1b5f885290b3e04da5a"
   }
  }
 },
 "nbformat": 4,
 "nbformat_minor": 2
}
